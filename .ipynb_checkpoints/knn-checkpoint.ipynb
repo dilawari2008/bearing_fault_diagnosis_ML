{
 "cells": [
  {
   "cell_type": "code",
   "execution_count": 99,
   "metadata": {},
   "outputs": [],
   "source": [
    "import itertools\n",
    "import numpy as np\n",
    "import matplotlib.pyplot as plt\n",
    "from matplotlib.ticker import NullFormatter\n",
    "import pandas as pd\n",
    "import numpy as np\n",
    "import matplotlib.ticker as ticker\n",
    "from sklearn import preprocessing\n",
    "%matplotlib inline"
   ]
  },
  {
   "cell_type": "code",
   "execution_count": 100,
   "metadata": {},
   "outputs": [
    {
     "data": {
      "text/html": [
       "<div>\n",
       "<style scoped>\n",
       "    .dataframe tbody tr th:only-of-type {\n",
       "        vertical-align: middle;\n",
       "    }\n",
       "\n",
       "    .dataframe tbody tr th {\n",
       "        vertical-align: top;\n",
       "    }\n",
       "\n",
       "    .dataframe thead th {\n",
       "        text-align: right;\n",
       "    }\n",
       "</style>\n",
       "<table border=\"1\" class=\"dataframe\">\n",
       "  <thead>\n",
       "    <tr style=\"text-align: right;\">\n",
       "      <th></th>\n",
       "      <th>skew</th>\n",
       "      <th>kurt</th>\n",
       "      <th>std_dev</th>\n",
       "      <th>rms</th>\n",
       "      <th>range</th>\n",
       "      <th>shannon</th>\n",
       "      <th>defect_loc</th>\n",
       "    </tr>\n",
       "  </thead>\n",
       "  <tbody>\n",
       "    <tr>\n",
       "      <th>0</th>\n",
       "      <td>0.028187</td>\n",
       "      <td>2.895937</td>\n",
       "      <td>0.150426</td>\n",
       "      <td>0.150494</td>\n",
       "      <td>1.175218</td>\n",
       "      <td>2821.624816</td>\n",
       "      <td>2</td>\n",
       "    </tr>\n",
       "    <tr>\n",
       "      <th>1</th>\n",
       "      <td>0.019655</td>\n",
       "      <td>2.822204</td>\n",
       "      <td>0.154229</td>\n",
       "      <td>0.154273</td>\n",
       "      <td>1.233532</td>\n",
       "      <td>2934.811103</td>\n",
       "      <td>2</td>\n",
       "    </tr>\n",
       "    <tr>\n",
       "      <th>2</th>\n",
       "      <td>0.014435</td>\n",
       "      <td>2.941275</td>\n",
       "      <td>0.156030</td>\n",
       "      <td>0.156086</td>\n",
       "      <td>1.392069</td>\n",
       "      <td>2957.736643</td>\n",
       "      <td>2</td>\n",
       "    </tr>\n",
       "    <tr>\n",
       "      <th>3</th>\n",
       "      <td>0.032114</td>\n",
       "      <td>2.857819</td>\n",
       "      <td>0.146695</td>\n",
       "      <td>0.146754</td>\n",
       "      <td>1.122589</td>\n",
       "      <td>2735.801246</td>\n",
       "      <td>2</td>\n",
       "    </tr>\n",
       "    <tr>\n",
       "      <th>4</th>\n",
       "      <td>0.010124</td>\n",
       "      <td>2.777602</td>\n",
       "      <td>0.146847</td>\n",
       "      <td>0.146923</td>\n",
       "      <td>1.124863</td>\n",
       "      <td>2753.138769</td>\n",
       "      <td>2</td>\n",
       "    </tr>\n",
       "    <tr>\n",
       "      <th>5</th>\n",
       "      <td>0.038872</td>\n",
       "      <td>2.857723</td>\n",
       "      <td>0.148002</td>\n",
       "      <td>0.148075</td>\n",
       "      <td>1.134934</td>\n",
       "      <td>2763.852117</td>\n",
       "      <td>2</td>\n",
       "    </tr>\n",
       "    <tr>\n",
       "      <th>6</th>\n",
       "      <td>-0.007646</td>\n",
       "      <td>2.927729</td>\n",
       "      <td>0.139692</td>\n",
       "      <td>0.139748</td>\n",
       "      <td>1.091402</td>\n",
       "      <td>2544.735660</td>\n",
       "      <td>2</td>\n",
       "    </tr>\n",
       "    <tr>\n",
       "      <th>7</th>\n",
       "      <td>0.021548</td>\n",
       "      <td>3.001880</td>\n",
       "      <td>0.137873</td>\n",
       "      <td>0.137922</td>\n",
       "      <td>1.231096</td>\n",
       "      <td>2488.366997</td>\n",
       "      <td>2</td>\n",
       "    </tr>\n",
       "    <tr>\n",
       "      <th>8</th>\n",
       "      <td>0.008909</td>\n",
       "      <td>2.962560</td>\n",
       "      <td>0.139476</td>\n",
       "      <td>0.139529</td>\n",
       "      <td>1.251075</td>\n",
       "      <td>2536.511612</td>\n",
       "      <td>2</td>\n",
       "    </tr>\n",
       "    <tr>\n",
       "      <th>9</th>\n",
       "      <td>-0.002761</td>\n",
       "      <td>3.038869</td>\n",
       "      <td>0.141422</td>\n",
       "      <td>0.141848</td>\n",
       "      <td>1.175056</td>\n",
       "      <td>2606.898126</td>\n",
       "      <td>2</td>\n",
       "    </tr>\n",
       "    <tr>\n",
       "      <th>10</th>\n",
       "      <td>-0.009187</td>\n",
       "      <td>2.967433</td>\n",
       "      <td>0.137562</td>\n",
       "      <td>0.138330</td>\n",
       "      <td>1.150041</td>\n",
       "      <td>2526.404322</td>\n",
       "      <td>2</td>\n",
       "    </tr>\n",
       "    <tr>\n",
       "      <th>11</th>\n",
       "      <td>-0.013356</td>\n",
       "      <td>2.933177</td>\n",
       "      <td>0.136941</td>\n",
       "      <td>0.137487</td>\n",
       "      <td>1.145655</td>\n",
       "      <td>2509.584026</td>\n",
       "      <td>2</td>\n",
       "    </tr>\n",
       "    <tr>\n",
       "      <th>12</th>\n",
       "      <td>-0.128863</td>\n",
       "      <td>2.976059</td>\n",
       "      <td>0.064869</td>\n",
       "      <td>0.066144</td>\n",
       "      <td>0.590173</td>\n",
       "      <td>3348.070669</td>\n",
       "      <td>1</td>\n",
       "    </tr>\n",
       "    <tr>\n",
       "      <th>13</th>\n",
       "      <td>-0.116913</td>\n",
       "      <td>2.943490</td>\n",
       "      <td>0.064634</td>\n",
       "      <td>0.065788</td>\n",
       "      <td>0.548241</td>\n",
       "      <td>3320.142221</td>\n",
       "      <td>1</td>\n",
       "    </tr>\n",
       "    <tr>\n",
       "      <th>14</th>\n",
       "      <td>-0.137015</td>\n",
       "      <td>2.951538</td>\n",
       "      <td>0.064581</td>\n",
       "      <td>0.065720</td>\n",
       "      <td>0.530718</td>\n",
       "      <td>3315.651811</td>\n",
       "      <td>1</td>\n",
       "    </tr>\n",
       "    <tr>\n",
       "      <th>15</th>\n",
       "      <td>-0.150584</td>\n",
       "      <td>2.922750</td>\n",
       "      <td>0.063003</td>\n",
       "      <td>0.064309</td>\n",
       "      <td>0.509230</td>\n",
       "      <td>3206.692446</td>\n",
       "      <td>1</td>\n",
       "    </tr>\n",
       "    <tr>\n",
       "      <th>16</th>\n",
       "      <td>-0.178937</td>\n",
       "      <td>2.936868</td>\n",
       "      <td>0.063301</td>\n",
       "      <td>0.064331</td>\n",
       "      <td>0.635234</td>\n",
       "      <td>3208.872797</td>\n",
       "      <td>1</td>\n",
       "    </tr>\n",
       "    <tr>\n",
       "      <th>17</th>\n",
       "      <td>-0.171198</td>\n",
       "      <td>2.914222</td>\n",
       "      <td>0.063126</td>\n",
       "      <td>0.064336</td>\n",
       "      <td>0.592676</td>\n",
       "      <td>3212.211214</td>\n",
       "      <td>1</td>\n",
       "    </tr>\n",
       "    <tr>\n",
       "      <th>18</th>\n",
       "      <td>-0.182835</td>\n",
       "      <td>2.949484</td>\n",
       "      <td>0.064995</td>\n",
       "      <td>0.066472</td>\n",
       "      <td>0.663397</td>\n",
       "      <td>3372.050579</td>\n",
       "      <td>1</td>\n",
       "    </tr>\n",
       "    <tr>\n",
       "      <th>19</th>\n",
       "      <td>-0.178155</td>\n",
       "      <td>2.896970</td>\n",
       "      <td>0.065061</td>\n",
       "      <td>0.065961</td>\n",
       "      <td>0.559298</td>\n",
       "      <td>3332.550532</td>\n",
       "      <td>1</td>\n",
       "    </tr>\n",
       "    <tr>\n",
       "      <th>20</th>\n",
       "      <td>-0.158702</td>\n",
       "      <td>2.944965</td>\n",
       "      <td>0.065360</td>\n",
       "      <td>0.066621</td>\n",
       "      <td>0.554500</td>\n",
       "      <td>3379.164394</td>\n",
       "      <td>1</td>\n",
       "    </tr>\n",
       "    <tr>\n",
       "      <th>21</th>\n",
       "      <td>-0.025898</td>\n",
       "      <td>2.769761</td>\n",
       "      <td>0.073349</td>\n",
       "      <td>0.074408</td>\n",
       "      <td>0.533847</td>\n",
       "      <td>2029.050953</td>\n",
       "      <td>1</td>\n",
       "    </tr>\n",
       "    <tr>\n",
       "      <th>22</th>\n",
       "      <td>-0.040495</td>\n",
       "      <td>2.814067</td>\n",
       "      <td>0.072060</td>\n",
       "      <td>0.073061</td>\n",
       "      <td>0.597892</td>\n",
       "      <td>1969.548814</td>\n",
       "      <td>1</td>\n",
       "    </tr>\n",
       "    <tr>\n",
       "      <th>23</th>\n",
       "      <td>-0.040517</td>\n",
       "      <td>2.708483</td>\n",
       "      <td>0.072645</td>\n",
       "      <td>0.073817</td>\n",
       "      <td>0.516114</td>\n",
       "      <td>2011.084015</td>\n",
       "      <td>1</td>\n",
       "    </tr>\n",
       "    <tr>\n",
       "      <th>24</th>\n",
       "      <td>-0.019148</td>\n",
       "      <td>5.361193</td>\n",
       "      <td>0.316422</td>\n",
       "      <td>0.316455</td>\n",
       "      <td>3.188277</td>\n",
       "      <td>4796.022675</td>\n",
       "      <td>3</td>\n",
       "    </tr>\n",
       "    <tr>\n",
       "      <th>25</th>\n",
       "      <td>-0.008768</td>\n",
       "      <td>5.231690</td>\n",
       "      <td>0.312011</td>\n",
       "      <td>0.312040</td>\n",
       "      <td>3.037050</td>\n",
       "      <td>4843.326768</td>\n",
       "      <td>3</td>\n",
       "    </tr>\n",
       "    <tr>\n",
       "      <th>26</th>\n",
       "      <td>-0.011456</td>\n",
       "      <td>5.273763</td>\n",
       "      <td>0.312277</td>\n",
       "      <td>0.312310</td>\n",
       "      <td>2.907264</td>\n",
       "      <td>4809.061025</td>\n",
       "      <td>3</td>\n",
       "    </tr>\n",
       "    <tr>\n",
       "      <th>27</th>\n",
       "      <td>0.090834</td>\n",
       "      <td>5.549416</td>\n",
       "      <td>0.300287</td>\n",
       "      <td>0.300316</td>\n",
       "      <td>2.933091</td>\n",
       "      <td>4620.030432</td>\n",
       "      <td>3</td>\n",
       "    </tr>\n",
       "    <tr>\n",
       "      <th>28</th>\n",
       "      <td>0.088343</td>\n",
       "      <td>5.546608</td>\n",
       "      <td>0.297932</td>\n",
       "      <td>0.297963</td>\n",
       "      <td>3.029253</td>\n",
       "      <td>4644.441807</td>\n",
       "      <td>3</td>\n",
       "    </tr>\n",
       "    <tr>\n",
       "      <th>29</th>\n",
       "      <td>0.091993</td>\n",
       "      <td>5.593651</td>\n",
       "      <td>0.300222</td>\n",
       "      <td>0.300254</td>\n",
       "      <td>2.936177</td>\n",
       "      <td>4620.217741</td>\n",
       "      <td>3</td>\n",
       "    </tr>\n",
       "    <tr>\n",
       "      <th>30</th>\n",
       "      <td>0.122164</td>\n",
       "      <td>5.472428</td>\n",
       "      <td>0.293532</td>\n",
       "      <td>0.293578</td>\n",
       "      <td>2.944949</td>\n",
       "      <td>4586.986416</td>\n",
       "      <td>3</td>\n",
       "    </tr>\n",
       "    <tr>\n",
       "      <th>31</th>\n",
       "      <td>0.140032</td>\n",
       "      <td>5.500527</td>\n",
       "      <td>0.291917</td>\n",
       "      <td>0.291974</td>\n",
       "      <td>2.882736</td>\n",
       "      <td>4555.051095</td>\n",
       "      <td>3</td>\n",
       "    </tr>\n",
       "    <tr>\n",
       "      <th>32</th>\n",
       "      <td>0.129293</td>\n",
       "      <td>5.652977</td>\n",
       "      <td>0.293070</td>\n",
       "      <td>0.293129</td>\n",
       "      <td>2.909700</td>\n",
       "      <td>4518.709543</td>\n",
       "      <td>3</td>\n",
       "    </tr>\n",
       "    <tr>\n",
       "      <th>33</th>\n",
       "      <td>0.192114</td>\n",
       "      <td>5.512217</td>\n",
       "      <td>0.291624</td>\n",
       "      <td>0.291882</td>\n",
       "      <td>3.118917</td>\n",
       "      <td>4582.557763</td>\n",
       "      <td>3</td>\n",
       "    </tr>\n",
       "    <tr>\n",
       "      <th>34</th>\n",
       "      <td>0.135368</td>\n",
       "      <td>5.346124</td>\n",
       "      <td>0.290781</td>\n",
       "      <td>0.291147</td>\n",
       "      <td>2.874452</td>\n",
       "      <td>4658.607361</td>\n",
       "      <td>3</td>\n",
       "    </tr>\n",
       "    <tr>\n",
       "      <th>35</th>\n",
       "      <td>0.164466</td>\n",
       "      <td>5.329262</td>\n",
       "      <td>0.291253</td>\n",
       "      <td>0.291553</td>\n",
       "      <td>2.997253</td>\n",
       "      <td>4641.904497</td>\n",
       "      <td>3</td>\n",
       "    </tr>\n",
       "    <tr>\n",
       "      <th>36</th>\n",
       "      <td>0.004800</td>\n",
       "      <td>7.927828</td>\n",
       "      <td>0.583507</td>\n",
       "      <td>0.583516</td>\n",
       "      <td>6.131926</td>\n",
       "      <td>-6670.022228</td>\n",
       "      <td>4</td>\n",
       "    </tr>\n",
       "    <tr>\n",
       "      <th>37</th>\n",
       "      <td>-0.006143</td>\n",
       "      <td>8.015015</td>\n",
       "      <td>0.575175</td>\n",
       "      <td>0.575189</td>\n",
       "      <td>6.172129</td>\n",
       "      <td>-6130.488121</td>\n",
       "      <td>4</td>\n",
       "    </tr>\n",
       "    <tr>\n",
       "      <th>38</th>\n",
       "      <td>-0.005115</td>\n",
       "      <td>7.946889</td>\n",
       "      <td>0.582455</td>\n",
       "      <td>0.582465</td>\n",
       "      <td>6.239133</td>\n",
       "      <td>-6506.545451</td>\n",
       "      <td>4</td>\n",
       "    </tr>\n",
       "    <tr>\n",
       "      <th>39</th>\n",
       "      <td>0.019123</td>\n",
       "      <td>7.852199</td>\n",
       "      <td>0.575230</td>\n",
       "      <td>0.575236</td>\n",
       "      <td>6.031216</td>\n",
       "      <td>-5895.981127</td>\n",
       "      <td>4</td>\n",
       "    </tr>\n",
       "    <tr>\n",
       "      <th>40</th>\n",
       "      <td>0.024209</td>\n",
       "      <td>7.823182</td>\n",
       "      <td>0.565826</td>\n",
       "      <td>0.565834</td>\n",
       "      <td>6.067764</td>\n",
       "      <td>-5245.749658</td>\n",
       "      <td>4</td>\n",
       "    </tr>\n",
       "    <tr>\n",
       "      <th>41</th>\n",
       "      <td>0.015443</td>\n",
       "      <td>7.877269</td>\n",
       "      <td>0.569380</td>\n",
       "      <td>0.569386</td>\n",
       "      <td>5.853350</td>\n",
       "      <td>-5559.709166</td>\n",
       "      <td>4</td>\n",
       "    </tr>\n",
       "    <tr>\n",
       "      <th>42</th>\n",
       "      <td>0.029750</td>\n",
       "      <td>7.720128</td>\n",
       "      <td>0.591201</td>\n",
       "      <td>0.591210</td>\n",
       "      <td>6.074262</td>\n",
       "      <td>-6885.084216</td>\n",
       "      <td>4</td>\n",
       "    </tr>\n",
       "    <tr>\n",
       "      <th>43</th>\n",
       "      <td>0.033715</td>\n",
       "      <td>7.582235</td>\n",
       "      <td>0.591504</td>\n",
       "      <td>0.591506</td>\n",
       "      <td>6.107967</td>\n",
       "      <td>-6727.739709</td>\n",
       "      <td>4</td>\n",
       "    </tr>\n",
       "    <tr>\n",
       "      <th>44</th>\n",
       "      <td>0.036715</td>\n",
       "      <td>7.483575</td>\n",
       "      <td>0.593130</td>\n",
       "      <td>0.593138</td>\n",
       "      <td>6.029186</td>\n",
       "      <td>-6786.751493</td>\n",
       "      <td>4</td>\n",
       "    </tr>\n",
       "    <tr>\n",
       "      <th>45</th>\n",
       "      <td>0.055891</td>\n",
       "      <td>7.720422</td>\n",
       "      <td>0.669355</td>\n",
       "      <td>0.669572</td>\n",
       "      <td>6.876285</td>\n",
       "      <td>-13915.354570</td>\n",
       "      <td>4</td>\n",
       "    </tr>\n",
       "    <tr>\n",
       "      <th>46</th>\n",
       "      <td>0.058852</td>\n",
       "      <td>7.601012</td>\n",
       "      <td>0.669137</td>\n",
       "      <td>0.669791</td>\n",
       "      <td>6.831209</td>\n",
       "      <td>-13659.288310</td>\n",
       "      <td>4</td>\n",
       "    </tr>\n",
       "    <tr>\n",
       "      <th>47</th>\n",
       "      <td>0.056117</td>\n",
       "      <td>7.627870</td>\n",
       "      <td>0.668803</td>\n",
       "      <td>0.669170</td>\n",
       "      <td>6.912833</td>\n",
       "      <td>-13595.331770</td>\n",
       "      <td>4</td>\n",
       "    </tr>\n",
       "  </tbody>\n",
       "</table>\n",
       "</div>"
      ],
      "text/plain": [
       "        skew      kurt   std_dev       rms     range       shannon  defect_loc\n",
       "0   0.028187  2.895937  0.150426  0.150494  1.175218   2821.624816           2\n",
       "1   0.019655  2.822204  0.154229  0.154273  1.233532   2934.811103           2\n",
       "2   0.014435  2.941275  0.156030  0.156086  1.392069   2957.736643           2\n",
       "3   0.032114  2.857819  0.146695  0.146754  1.122589   2735.801246           2\n",
       "4   0.010124  2.777602  0.146847  0.146923  1.124863   2753.138769           2\n",
       "5   0.038872  2.857723  0.148002  0.148075  1.134934   2763.852117           2\n",
       "6  -0.007646  2.927729  0.139692  0.139748  1.091402   2544.735660           2\n",
       "7   0.021548  3.001880  0.137873  0.137922  1.231096   2488.366997           2\n",
       "8   0.008909  2.962560  0.139476  0.139529  1.251075   2536.511612           2\n",
       "9  -0.002761  3.038869  0.141422  0.141848  1.175056   2606.898126           2\n",
       "10 -0.009187  2.967433  0.137562  0.138330  1.150041   2526.404322           2\n",
       "11 -0.013356  2.933177  0.136941  0.137487  1.145655   2509.584026           2\n",
       "12 -0.128863  2.976059  0.064869  0.066144  0.590173   3348.070669           1\n",
       "13 -0.116913  2.943490  0.064634  0.065788  0.548241   3320.142221           1\n",
       "14 -0.137015  2.951538  0.064581  0.065720  0.530718   3315.651811           1\n",
       "15 -0.150584  2.922750  0.063003  0.064309  0.509230   3206.692446           1\n",
       "16 -0.178937  2.936868  0.063301  0.064331  0.635234   3208.872797           1\n",
       "17 -0.171198  2.914222  0.063126  0.064336  0.592676   3212.211214           1\n",
       "18 -0.182835  2.949484  0.064995  0.066472  0.663397   3372.050579           1\n",
       "19 -0.178155  2.896970  0.065061  0.065961  0.559298   3332.550532           1\n",
       "20 -0.158702  2.944965  0.065360  0.066621  0.554500   3379.164394           1\n",
       "21 -0.025898  2.769761  0.073349  0.074408  0.533847   2029.050953           1\n",
       "22 -0.040495  2.814067  0.072060  0.073061  0.597892   1969.548814           1\n",
       "23 -0.040517  2.708483  0.072645  0.073817  0.516114   2011.084015           1\n",
       "24 -0.019148  5.361193  0.316422  0.316455  3.188277   4796.022675           3\n",
       "25 -0.008768  5.231690  0.312011  0.312040  3.037050   4843.326768           3\n",
       "26 -0.011456  5.273763  0.312277  0.312310  2.907264   4809.061025           3\n",
       "27  0.090834  5.549416  0.300287  0.300316  2.933091   4620.030432           3\n",
       "28  0.088343  5.546608  0.297932  0.297963  3.029253   4644.441807           3\n",
       "29  0.091993  5.593651  0.300222  0.300254  2.936177   4620.217741           3\n",
       "30  0.122164  5.472428  0.293532  0.293578  2.944949   4586.986416           3\n",
       "31  0.140032  5.500527  0.291917  0.291974  2.882736   4555.051095           3\n",
       "32  0.129293  5.652977  0.293070  0.293129  2.909700   4518.709543           3\n",
       "33  0.192114  5.512217  0.291624  0.291882  3.118917   4582.557763           3\n",
       "34  0.135368  5.346124  0.290781  0.291147  2.874452   4658.607361           3\n",
       "35  0.164466  5.329262  0.291253  0.291553  2.997253   4641.904497           3\n",
       "36  0.004800  7.927828  0.583507  0.583516  6.131926  -6670.022228           4\n",
       "37 -0.006143  8.015015  0.575175  0.575189  6.172129  -6130.488121           4\n",
       "38 -0.005115  7.946889  0.582455  0.582465  6.239133  -6506.545451           4\n",
       "39  0.019123  7.852199  0.575230  0.575236  6.031216  -5895.981127           4\n",
       "40  0.024209  7.823182  0.565826  0.565834  6.067764  -5245.749658           4\n",
       "41  0.015443  7.877269  0.569380  0.569386  5.853350  -5559.709166           4\n",
       "42  0.029750  7.720128  0.591201  0.591210  6.074262  -6885.084216           4\n",
       "43  0.033715  7.582235  0.591504  0.591506  6.107967  -6727.739709           4\n",
       "44  0.036715  7.483575  0.593130  0.593138  6.029186  -6786.751493           4\n",
       "45  0.055891  7.720422  0.669355  0.669572  6.876285 -13915.354570           4\n",
       "46  0.058852  7.601012  0.669137  0.669791  6.831209 -13659.288310           4\n",
       "47  0.056117  7.627870  0.668803  0.669170  6.912833 -13595.331770           4"
      ]
     },
     "execution_count": 100,
     "metadata": {},
     "output_type": "execute_result"
    }
   ],
   "source": [
    "#load data from file\n",
    "df = pd.read_csv('v2.csv')\n",
    "df.head(48)"
   ]
  },
  {
   "cell_type": "code",
   "execution_count": 101,
   "metadata": {},
   "outputs": [
    {
     "data": {
      "text/plain": [
       "4    12\n",
       "3    12\n",
       "2    12\n",
       "1    12\n",
       "Name: defect_loc, dtype: int64"
      ]
     },
     "execution_count": 101,
     "metadata": {},
     "output_type": "execute_result"
    }
   ],
   "source": [
    "df['defect_loc'].value_counts()"
   ]
  },
  {
   "cell_type": "code",
   "execution_count": 102,
   "metadata": {
    "scrolled": true
   },
   "outputs": [
    {
     "data": {
      "text/plain": [
       "array([[<matplotlib.axes._subplots.AxesSubplot object at 0x000001E8E7247B00>]],\n",
       "      dtype=object)"
      ]
     },
     "execution_count": 102,
     "metadata": {},
     "output_type": "execute_result"
    },
    {
     "data": {
      "image/png": "[encoded data removed]",
      "text/plain": [
       "<Figure size 432x288 with 1 Axes>"
      ]
     },
     "metadata": {
      "needs_background": "light"
     },
     "output_type": "display_data"
    }
   ],
   "source": [
    "df.hist(column='rms', bins=50)"
   ]
  },
  {
   "cell_type": "code",
   "execution_count": 103,
   "metadata": {},
   "outputs": [
    {
     "data": {
      "text/plain": [
       "Index(['skew', 'kurt', 'std_dev', 'rms', 'range', 'shannon', 'defect_loc'], dtype='object')"
      ]
     },
     "execution_count": 103,
     "metadata": {},
     "output_type": "execute_result"
    }
   ],
   "source": [
    "df.columns"
   ]
  },
  {
   "cell_type": "code",
   "execution_count": 104,
   "metadata": {},
   "outputs": [
    {
     "data": {
      "text/plain": [
       "array([[2.8187e-02, 2.8959e+00, 1.5043e-01, 1.5049e-01, 1.1752e+00,\n",
       "        2.8216e+03],\n",
       "       [1.9655e-02, 2.8222e+00, 1.5423e-01, 1.5427e-01, 1.2335e+00,\n",
       "        2.9348e+03],\n",
       "       [1.4435e-02, 2.9413e+00, 1.5603e-01, 1.5609e-01, 1.3921e+00,\n",
       "        2.9577e+03],\n",
       "       [3.2114e-02, 2.8578e+00, 1.4670e-01, 1.4675e-01, 1.1226e+00,\n",
       "        2.7358e+03],\n",
       "       [1.0124e-02, 2.7776e+00, 1.4685e-01, 1.4692e-01, 1.1249e+00,\n",
       "        2.7531e+03]])"
      ]
     },
     "execution_count": 104,
     "metadata": {},
     "output_type": "execute_result"
    }
   ],
   "source": [
    "X = df[['skew', 'kurt','std_dev', 'rms', 'range', 'shannon']] .values#.astype(float)\n",
    "X[0:5]"
   ]
  },
  {
   "cell_type": "code",
   "execution_count": 105,
   "metadata": {},
   "outputs": [
    {
     "data": {
      "text/plain": [
       "array([2, 2, 2, 2, 2, 2, 2, 2, 2, 2, 2, 2, 1, 1, 1, 1, 1, 1, 1, 1, 1, 1,\n",
       "       1, 1, 3, 3, 3, 3, 3, 3, 3, 3, 3, 3, 3, 3, 4, 4, 4, 4, 4, 4, 4, 4,\n",
       "       4, 4, 4, 4], dtype=int64)"
      ]
     },
     "execution_count": 105,
     "metadata": {},
     "output_type": "execute_result"
    }
   ],
   "source": [
    "y = df['defect_loc'].values\n",
    "y[0:]"
   ]
  },
  {
   "cell_type": "code",
   "execution_count": 106,
   "metadata": {},
   "outputs": [
    {
     "name": "stdout",
     "output_type": "stream",
     "text": [
      "[[2.8187e-02 2.8959e+00 1.5043e-01 1.5049e-01 1.1752e+00 2.8216e+03]\n",
      " [1.9655e-02 2.8222e+00 1.5423e-01 1.5427e-01 1.2335e+00 2.9348e+03]\n",
      " [1.4435e-02 2.9413e+00 1.5603e-01 1.5609e-01 1.3921e+00 2.9577e+03]\n",
      " [3.2114e-02 2.8578e+00 1.4670e-01 1.4675e-01 1.1226e+00 2.7358e+03]\n",
      " [1.0124e-02 2.7776e+00 1.4685e-01 1.4692e-01 1.1249e+00 2.7531e+03]]\n"
     ]
    }
   ],
   "source": [
    "#X = preprocessing.StandardScaler().fit(X).transform(X.astype(float))\n",
    "print(X[0:5])\n",
    "#standard deviation=1 and mean =0"
   ]
  },
  {
   "cell_type": "code",
   "execution_count": 107,
   "metadata": {},
   "outputs": [
    {
     "name": "stdout",
     "output_type": "stream",
     "text": [
      "[<matplotlib.lines.Line2D object at 0x000001E8E69F45F8>, <matplotlib.lines.Line2D object at 0x000001E8E69F4438>, <matplotlib.lines.Line2D object at 0x000001E8E69F4198>, <matplotlib.lines.Line2D object at 0x000001E8E69F4080>, <matplotlib.lines.Line2D object at 0x000001E8E72226A0>, <matplotlib.lines.Line2D object at 0x000001E8E7222BA8>]\n"
     ]
    },
    {
     "data": {
      "image/png": "[encoded data removed]",
      "text/plain": [
       "<Figure size 432x288 with 1 Axes>"
      ]
     },
     "metadata": {
      "needs_background": "light"
     },
     "output_type": "display_data"
    }
   ],
   "source": [
    "print(plt.plot(X,y))"
   ]
  },
  {
   "cell_type": "code",
   "execution_count": 108,
   "metadata": {},
   "outputs": [
    {
     "name": "stdout",
     "output_type": "stream",
     "text": [
      "Train set: (14, 6) (14,)\n",
      "Test set: (34, 6) (34,)\n"
     ]
    }
   ],
   "source": [
    "from sklearn.model_selection import train_test_split\n",
    "X_train, X_test, y_train, y_test = train_test_split( X, y, test_size=0.7, random_state=42)\n",
    "print('Train set:', X_train.shape,  y_train.shape )\n",
    "print('Test set:', X_test.shape,  y_test.shape)"
   ]
  },
  {
   "cell_type": "code",
   "execution_count": 109,
   "metadata": {},
   "outputs": [
    {
     "data": {
      "text/plain": [
       "'X_train = X\\nX_test = X\\ny_train = y\\ny_test = y'"
      ]
     },
     "execution_count": 109,
     "metadata": {},
     "output_type": "execute_result"
    }
   ],
   "source": [
    "'''X_train = X\n",
    "X_test = X\n",
    "y_train = y\n",
    "y_test = y'''"
   ]
  },
  {
   "cell_type": "code",
   "execution_count": 110,
   "metadata": {},
   "outputs": [],
   "source": [
    "#building classifier\n",
    "from sklearn.neighbors import KNeighborsClassifier"
   ]
  },
  {
   "cell_type": "code",
   "execution_count": 111,
   "metadata": {},
   "outputs": [],
   "source": [
    "#number of neighbors\n",
    "k=1"
   ]
  },
  {
   "cell_type": "code",
   "execution_count": 112,
   "metadata": {},
   "outputs": [
    {
     "name": "stdout",
     "output_type": "stream",
     "text": [
      "KNeighborsClassifier(algorithm='auto', leaf_size=30, metric='minkowski',\n",
      "                     metric_params=None, n_jobs=None, n_neighbors=1, p=2,\n",
      "                     weights='uniform')\n"
     ]
    }
   ],
   "source": [
    "#Train Model and Predict  \n",
    "neigh = KNeighborsClassifier(n_neighbors = k).fit(X_train,y_train)\n",
    "print(neigh)"
   ]
  },
  {
   "cell_type": "code",
   "execution_count": 113,
   "metadata": {},
   "outputs": [
    {
     "data": {
      "text/plain": [
       "array([3, 4, 3, 4, 3], dtype=int64)"
      ]
     },
     "execution_count": 113,
     "metadata": {},
     "output_type": "execute_result"
    }
   ],
   "source": [
    "yhat = neigh.predict(X_test)\n",
    "yhat[0:5]"
   ]
  },
  {
   "cell_type": "code",
   "execution_count": 114,
   "metadata": {},
   "outputs": [
    {
     "data": {
      "text/plain": [
       "array([4, 3, 1, 4, 2, 1, 1, 4, 1, 2, 4, 1, 3, 4], dtype=int64)"
      ]
     },
     "execution_count": 114,
     "metadata": {},
     "output_type": "execute_result"
    }
   ],
   "source": [
    "y_train[0:]"
   ]
  },
  {
   "cell_type": "code",
   "execution_count": 115,
   "metadata": {},
   "outputs": [
    {
     "name": "stdout",
     "output_type": "stream",
     "text": [
      "Train set Accuracy:  1.0\n",
      "Test set Accuracy:  0.9411764705882353\n"
     ]
    }
   ],
   "source": [
    "#try all three scores\n",
    "from sklearn import metrics\n",
    "print(\"Train set Accuracy: \", metrics.accuracy_score(y_train, neigh.predict(X_train)))\n",
    "print(\"Test set Accuracy: \", metrics.accuracy_score(y_test, yhat))"
   ]
  },
  {
   "cell_type": "code",
   "execution_count": 116,
   "metadata": {},
   "outputs": [
    {
     "name": "stdout",
     "output_type": "stream",
     "text": [
      "[[ 7  0  0  0]\n",
      " [ 2  8  0  0]\n",
      " [ 0  0 10  0]\n",
      " [ 0  0  0  7]]\n"
     ]
    }
   ],
   "source": [
    "#confusion matrix\n",
    "from sklearn.metrics import classification_report, confusion_matrix\n",
    "import itertools\n",
    "def plot_confusion_matrix(cm, classes,\n",
    "                          normalize=False,\n",
    "                          title='Confusion matrix',\n",
    "                          cmap=plt.cm.Blues):\n",
    "    \"\"\"\n",
    "    This function prints and plots the confusion matrix.\n",
    "    Normalization can be applied by setting `normalize=True`.\n",
    "    \"\"\"\n",
    "    if normalize:\n",
    "        cm = cm.astype('float') / cm.sum(axis=1)[:, np.newaxis]\n",
    "        print(\"Normalized confusion matrix\")\n",
    "    else:\n",
    "        print('Confusion matrix, without normalization')\n",
    "\n",
    "    print(cm)\n",
    "\n",
    "    plt.imshow(cm, interpolation='nearest', cmap=cmap)\n",
    "    plt.title(title)\n",
    "    plt.colorbar()\n",
    "    tick_marks = np.arange(len(classes))\n",
    "    plt.xticks(tick_marks, classes, rotation=45)\n",
    "    plt.yticks(tick_marks, classes)\n",
    "\n",
    "    fmt = '.2f' if normalize else 'd'\n",
    "    thresh = cm.max() / 2.\n",
    "    for i, j in itertools.product(range(cm.shape[0]), range(cm.shape[1])):\n",
    "        plt.text(j, i, format(cm[i, j], fmt),\n",
    "                 horizontalalignment=\"center\",\n",
    "                 color=\"white\" if cm[i, j] > thresh else \"black\")\n",
    "\n",
    "    plt.tight_layout()\n",
    "    plt.ylabel('True label')\n",
    "    plt.xlabel('Predicted label')\n",
    "print(confusion_matrix(y_test, yhat, labels=[1,2,3,4]))"
   ]
  },
  {
   "cell_type": "code",
   "execution_count": 117,
   "metadata": {},
   "outputs": [
    {
     "name": "stdout",
     "output_type": "stream",
     "text": [
      "Confusion matrix, without normalization\n",
      "[[ 7  0  0  0]\n",
      " [ 2  8  0  0]\n",
      " [ 0  0 10  0]\n",
      " [ 0  0  0  7]]\n"
     ]
    },
    {
     "data": {
      "image/png": "[encoded data removed]",
      "text/plain": [
       "<Figure size 432x288 with 2 Axes>"
      ]
     },
     "metadata": {
      "needs_background": "light"
     },
     "output_type": "display_data"
    }
   ],
   "source": [
    "# Compute confusion matrix\n",
    "cnf_matrix = confusion_matrix(y_test, yhat, labels=[1,2,3,4])\n",
    "np.set_printoptions(precision=4)\n",
    "\n",
    "\n",
    "# Plot non-normalized confusion matrix\n",
    "plt.figure()\n",
    "plot_confusion_matrix(cnf_matrix, classes=['healthy','ball','inner_race','outer_race'],normalize= False,  title='Confusion matrix')"
   ]
  },
  {
   "cell_type": "code",
   "execution_count": 118,
   "metadata": {},
   "outputs": [
    {
     "data": {
      "text/plain": [
       "\"df1 = pd.read_csv('test_file.csv')\\ntv= df1[['skew', 'kurt','std_dev', 'rms', 'range', 'shannon']] .values#.astype(float)\\nprint(tv)\\nyh = neigh.predict(tv)\\n\\nprint('prediction = ',yh)\\n\\nprint('actual = ',df1['defect_loc'].values)\""
      ]
     },
     "execution_count": 118,
     "metadata": {},
     "output_type": "execute_result"
    }
   ],
   "source": [
    "#predict a particular value\n",
    "'''df1 = pd.read_csv('test_file.csv')\n",
    "tv= df1[['skew', 'kurt','std_dev', 'rms', 'range', 'shannon']] .values#.astype(float)\n",
    "print(tv)\n",
    "yh = neigh.predict(tv)\n",
    "\n",
    "print('prediction = ',yh)\n",
    "\n",
    "print('actual = ',df1['defect_loc'].values)'''"
   ]
  },
  {
   "cell_type": "code",
   "execution_count": 119,
   "metadata": {},
   "outputs": [
    {
     "data": {
      "text/plain": [
       "array([0.9412, 0.9412, 0.9412, 0.4118, 0.4118, 0.4118, 0.4118, 0.4118,\n",
       "       0.4118, 0.4118, 0.4118, 0.2059, 0.2059, 0.2059])"
      ]
     },
     "execution_count": 119,
     "metadata": {},
     "output_type": "execute_result"
    }
   ],
   "source": [
    "#code for finding the best k\n",
    "Ks = len(X_train)+1\n",
    "mean_acc = np.zeros((Ks-1))\n",
    "std_acc = np.zeros((Ks-1))\n",
    "#ConfustionMx = [];\n",
    "for n in range(1,Ks):\n",
    "    \n",
    "    #Train Model and Predict  \n",
    "    neigh = KNeighborsClassifier(n_neighbors = n).fit(X_train,y_train)\n",
    "    yhat=neigh.predict(X_test)\n",
    "    mean_acc[n-1] = metrics.accuracy_score(y_test, yhat)\n",
    "\n",
    "    \n",
    "    std_acc[n-1]=np.std(yhat==y_test)/np.sqrt(yhat.shape[0])\n",
    "\n",
    "mean_acc"
   ]
  },
  {
   "cell_type": "code",
   "execution_count": 120,
   "metadata": {},
   "outputs": [
    {
     "data": {
      "image/png": "[encoded data removed]",
      "text/plain": [
       "<Figure size 432x288 with 1 Axes>"
      ]
     },
     "metadata": {
      "needs_background": "light"
     },
     "output_type": "display_data"
    }
   ],
   "source": [
    "plt.plot(range(1,Ks),mean_acc,'g')\n",
    "plt.fill_between(range(1,Ks),mean_acc - 1 * std_acc,mean_acc + 1 * std_acc, alpha=0.10)\n",
    "plt.legend(('Accuracy ', '+/- 3xstd'))\n",
    "plt.ylabel('Accuracy ')\n",
    "plt.xlabel('Number of Nabors (K)')\n",
    "plt.tight_layout()\n",
    "plt.show()"
   ]
  },
  {
   "cell_type": "code",
   "execution_count": 121,
   "metadata": {
    "scrolled": true
   },
   "outputs": [
    {
     "name": "stdout",
     "output_type": "stream",
     "text": [
      "The best accuracy was with 0.9411764705882353 with k= 1\n"
     ]
    }
   ],
   "source": [
    "print( \"The best accuracy was with\", mean_acc.max(), \"with k=\", mean_acc.argmax()+1)"
   ]
  }
 ],
 "metadata": {
  "kernelspec": {
   "display_name": "Python 3",
   "language": "python",
   "name": "python3"
  },
  "language_info": {
   "codemirror_mode": {
    "name": "ipython",
    "version": 3
   },
   "file_extension": ".py",
   "mimetype": "text/x-python",
   "name": "python",
   "nbconvert_exporter": "python",
   "pygments_lexer": "ipython3",
   "version": "3.7.3"
  }
 },
 "nbformat": 4,
 "nbformat_minor": 2
}
